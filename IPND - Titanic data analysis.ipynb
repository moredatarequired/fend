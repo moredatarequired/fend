{
 "cells": [
  {
   "cell_type": "markdown",
   "metadata": {},
   "source": [
    "# *Titanic* Data Analysis\n",
    "The following is an exploration and analysis of data regarding passengers of *RMS Titanic*, specifically a non-predictave examination of which factors may have been related to passenger survival when the ship sank on 15 April 1912.\n",
    "\n",
    "## Question: which factors affected passenger survival?\n",
    "\n",
    "We start by importing passenger data:"
   ]
  },
  {
   "cell_type": "code",
   "execution_count": 1,
   "metadata": {
    "collapsed": true
   },
   "outputs": [],
   "source": [
    "import pandas as pd\n",
    "passengers = pd.read_csv('titanic_data.csv')"
   ]
  },
  {
   "cell_type": "markdown",
   "metadata": {},
   "source": [
    "There were 2,224 aboard the ship when it sank; this data is just a sample of 891 of those passengers."
   ]
  },
  {
   "cell_type": "code",
   "execution_count": 2,
   "metadata": {
    "collapsed": false
   },
   "outputs": [
    {
     "data": {
      "text/plain": [
       "891"
      ]
     },
     "execution_count": 2,
     "metadata": {},
     "output_type": "execute_result"
    }
   ],
   "source": [
    "len(passengers)"
   ]
  },
  {
   "cell_type": "markdown",
   "metadata": {},
   "source": [
    "Let's look at the data to see what we have to work with:"
   ]
  },
  {
   "cell_type": "code",
   "execution_count": 3,
   "metadata": {
    "collapsed": false
   },
   "outputs": [
    {
     "data": {
      "text/html": [
       "<div>\n",
       "<table border=\"1\" class=\"dataframe\">\n",
       "  <thead>\n",
       "    <tr style=\"text-align: right;\">\n",
       "      <th></th>\n",
       "      <th>PassengerId</th>\n",
       "      <th>Survived</th>\n",
       "      <th>Pclass</th>\n",
       "      <th>Name</th>\n",
       "      <th>Sex</th>\n",
       "      <th>Age</th>\n",
       "      <th>SibSp</th>\n",
       "      <th>Parch</th>\n",
       "      <th>Ticket</th>\n",
       "      <th>Fare</th>\n",
       "      <th>Cabin</th>\n",
       "      <th>Embarked</th>\n",
       "    </tr>\n",
       "  </thead>\n",
       "  <tbody>\n",
       "    <tr>\n",
       "      <th>0</th>\n",
       "      <td>1</td>\n",
       "      <td>0</td>\n",
       "      <td>3</td>\n",
       "      <td>Braund, Mr. Owen Harris</td>\n",
       "      <td>male</td>\n",
       "      <td>22.0</td>\n",
       "      <td>1</td>\n",
       "      <td>0</td>\n",
       "      <td>A/5 21171</td>\n",
       "      <td>7.2500</td>\n",
       "      <td>NaN</td>\n",
       "      <td>S</td>\n",
       "    </tr>\n",
       "    <tr>\n",
       "      <th>1</th>\n",
       "      <td>2</td>\n",
       "      <td>1</td>\n",
       "      <td>1</td>\n",
       "      <td>Cumings, Mrs. John Bradley (Florence Briggs Th...</td>\n",
       "      <td>female</td>\n",
       "      <td>38.0</td>\n",
       "      <td>1</td>\n",
       "      <td>0</td>\n",
       "      <td>PC 17599</td>\n",
       "      <td>71.2833</td>\n",
       "      <td>C85</td>\n",
       "      <td>C</td>\n",
       "    </tr>\n",
       "    <tr>\n",
       "      <th>2</th>\n",
       "      <td>3</td>\n",
       "      <td>1</td>\n",
       "      <td>3</td>\n",
       "      <td>Heikkinen, Miss. Laina</td>\n",
       "      <td>female</td>\n",
       "      <td>26.0</td>\n",
       "      <td>0</td>\n",
       "      <td>0</td>\n",
       "      <td>STON/O2. 3101282</td>\n",
       "      <td>7.9250</td>\n",
       "      <td>NaN</td>\n",
       "      <td>S</td>\n",
       "    </tr>\n",
       "    <tr>\n",
       "      <th>3</th>\n",
       "      <td>4</td>\n",
       "      <td>1</td>\n",
       "      <td>1</td>\n",
       "      <td>Futrelle, Mrs. Jacques Heath (Lily May Peel)</td>\n",
       "      <td>female</td>\n",
       "      <td>35.0</td>\n",
       "      <td>1</td>\n",
       "      <td>0</td>\n",
       "      <td>113803</td>\n",
       "      <td>53.1000</td>\n",
       "      <td>C123</td>\n",
       "      <td>S</td>\n",
       "    </tr>\n",
       "    <tr>\n",
       "      <th>4</th>\n",
       "      <td>5</td>\n",
       "      <td>0</td>\n",
       "      <td>3</td>\n",
       "      <td>Allen, Mr. William Henry</td>\n",
       "      <td>male</td>\n",
       "      <td>35.0</td>\n",
       "      <td>0</td>\n",
       "      <td>0</td>\n",
       "      <td>373450</td>\n",
       "      <td>8.0500</td>\n",
       "      <td>NaN</td>\n",
       "      <td>S</td>\n",
       "    </tr>\n",
       "  </tbody>\n",
       "</table>\n",
       "</div>"
      ],
      "text/plain": [
       "   PassengerId  Survived  Pclass  \\\n",
       "0            1         0       3   \n",
       "1            2         1       1   \n",
       "2            3         1       3   \n",
       "3            4         1       1   \n",
       "4            5         0       3   \n",
       "\n",
       "                                                Name     Sex   Age  SibSp  \\\n",
       "0                            Braund, Mr. Owen Harris    male  22.0      1   \n",
       "1  Cumings, Mrs. John Bradley (Florence Briggs Th...  female  38.0      1   \n",
       "2                             Heikkinen, Miss. Laina  female  26.0      0   \n",
       "3       Futrelle, Mrs. Jacques Heath (Lily May Peel)  female  35.0      1   \n",
       "4                           Allen, Mr. William Henry    male  35.0      0   \n",
       "\n",
       "   Parch            Ticket     Fare Cabin Embarked  \n",
       "0      0         A/5 21171   7.2500   NaN        S  \n",
       "1      0          PC 17599  71.2833   C85        C  \n",
       "2      0  STON/O2. 3101282   7.9250   NaN        S  \n",
       "3      0            113803  53.1000  C123        S  \n",
       "4      0            373450   8.0500   NaN        S  "
      ]
     },
     "execution_count": 3,
     "metadata": {},
     "output_type": "execute_result"
    }
   ],
   "source": [
    "passengers.head()"
   ]
  },
  {
   "cell_type": "markdown",
   "metadata": {},
   "source": [
    "This data was originally taken from https://www.kaggle.com/c/titanic/data, and we can review that to explain the less descriptive column names.\n",
    "\n",
    "**Survived**: 0 if the passenger died, 1 if the passenger survived. This is the variable we are most interested in examining.\n",
    "\n",
    "**Pclass**: Passenger class, a proxy for socioeconomic status (SES).\n",
    "\n",
    "**Age**: Age of the passenger. Estimated for some passengers, represented by \"xx.5\"\n",
    "\n",
    "**SibSp**: Number of siblings or spouses who were also passengers on the Titanic.\n",
    "\n",
    "**Parch**: Number of parents or children who were also passengers on the Titanic.\n",
    "\n",
    "**Ticket**: Ticket number. Unclear if this can be used in meaninful ways.\n",
    "\n",
    "**Fare**: Passenger fare, in 1912 dollars.\n",
    "\n",
    "**Cabin**: Cabin, when known. Note that this is unknown for most passengers.\n",
    "\n",
    "**Embarked**: PPort of Embarkation (C = Cherbourg; Q = Queenstown; S = Southampton)"
   ]
  },
  {
   "cell_type": "markdown",
   "metadata": {},
   "source": [
    "## Data Wrangling\n",
    "We can start by turning non-numeric column data into numbers that are easier to examine statistically. 'Sex' is an obvious candidate. After all, wasn't the saying \"women and children first\" regarding how to priritize space in the lifeboats? [[source](https://en.wikipedia.org/wiki/Women_and_children_first)]"
   ]
  },
  {
   "cell_type": "code",
   "execution_count": 4,
   "metadata": {
    "collapsed": false
   },
   "outputs": [],
   "source": [
    "passengers['Sex'] = passengers['Sex'].apply(lambda s: {'male':0, 'female':1}[s])"
   ]
  },
  {
   "cell_type": "markdown",
   "metadata": {},
   "source": [
    "Because we can't group or rank unique attributes such as *PassengerId*, *Ticket*, *Cabin*, or *Name*, they aren't easily amenible to standard stastical examination and we can exclude these from our analysis. NB: *PassengerId* is numeric and sortable, but is a serial number applied to a random sampling of the data by Kaggle, so any correlation with it an any other attribute should be spurious."
   ]
  },
  {
   "cell_type": "code",
   "execution_count": 5,
   "metadata": {
    "collapsed": false
   },
   "outputs": [],
   "source": [
    "del passengers['PassengerId']\n",
    "del passengers['Ticket']\n",
    "del passengers['Cabin']\n",
    "del passengers['Name']"
   ]
  },
  {
   "cell_type": "markdown",
   "metadata": {},
   "source": [
    "At this point we can do a cursory examination of the numeric columns we have to see which variables might correlate with passenger survival."
   ]
  },
  {
   "cell_type": "code",
   "execution_count": 6,
   "metadata": {
    "collapsed": false
   },
   "outputs": [
    {
     "data": {
      "text/plain": [
       "Survived    1.000000\n",
       "Pclass     -0.338481\n",
       "Sex         0.543351\n",
       "Age        -0.077221\n",
       "SibSp      -0.035322\n",
       "Parch       0.081629\n",
       "Fare        0.257307\n",
       "Name: Survived, dtype: float64"
      ]
     },
     "execution_count": 6,
     "metadata": {},
     "output_type": "execute_result"
    }
   ],
   "source": [
    "passengers.corr()['Survived']"
   ]
  },
  {
   "cell_type": "markdown",
   "metadata": {},
   "source": [
    "'Survived' correlates perfectly with itself, and can of course be ignored. After that, it seems like *Sex* has the highest correlation (0.54), followed by *Pclass* (-0.34) and *Fare* (0.26). Other factors seem to correlate weakly, though it's possible that there is noise or confounding factors we could filter out.\n",
    "\n",
    "### Survival rate by sex\n",
    "\n",
    "Sex is very simple to directly investigate:"
   ]
  },
  {
   "cell_type": "code",
   "execution_count": 7,
   "metadata": {
    "collapsed": false
   },
   "outputs": [
    {
     "data": {
      "text/plain": [
       "Sex       \n",
       "0    count    577.000000\n",
       "     mean       0.188908\n",
       "     std        0.391775\n",
       "     min        0.000000\n",
       "     25%        0.000000\n",
       "     50%        0.000000\n",
       "     75%        0.000000\n",
       "     max        1.000000\n",
       "1    count    314.000000\n",
       "     mean       0.742038\n",
       "     std        0.438211\n",
       "     min        0.000000\n",
       "     25%        0.000000\n",
       "     50%        1.000000\n",
       "     75%        1.000000\n",
       "     max        1.000000\n",
       "dtype: float64"
      ]
     },
     "execution_count": 7,
     "metadata": {},
     "output_type": "execute_result"
    }
   ],
   "source": [
    "passengers.groupby('Sex')['Survived'].describe()"
   ]
  },
  {
   "cell_type": "markdown",
   "metadata": {},
   "source": [
    "There is a large standard deviation, but sex seems to be very highly correlated with survival. Visually:"
   ]
  },
  {
   "cell_type": "code",
   "execution_count": 8,
   "metadata": {
    "collapsed": false
   },
   "outputs": [
    {
     "data": {
      "text/plain": [
       "<matplotlib.text.Text at 0x116b069d0>"
      ]
     },
     "execution_count": 8,
     "metadata": {},
     "output_type": "execute_result"
    },
    {
     "data": {
      "image/png": "[encoded data removed]",
      "text/plain": [
       "<matplotlib.figure.Figure at 0x11476d3d0>"
      ]
     },
     "metadata": {},
     "output_type": "display_data"
    }
   ],
   "source": [
    "%matplotlib inline\n",
    "import matplotlib.pyplot as plt\n",
    "import numpy as np\n",
    "import statsmodels.stats.api as sms\n",
    "\n",
    "survival = passengers.groupby('Sex')['Survived']\n",
    "def error_bar(group, bound):\n",
    "    return abs(survival.get_group(group).mean() - sms.DescrStatsW(survival.get_group(group)).tconfint_mean()[bound])\n",
    "survival_err = [[error_bar(0, 0), error_bar(1, 0)], [error_bar(0, 1), error_bar(1, 1)]]\n",
    "\n",
    "fig, ax = plt.subplots()\n",
    "\n",
    "ax.bar(np.arange(2), survival.mean(), width=0.6, color='orange', align='center')\n",
    "ax.errorbar(np.arange(2), survival.mean(), fmt='none', yerr=survival_err)\n",
    "plt.xticks(np.arange(2), ('male', 'female'))\n",
    "plt.yticks(np.arange(11)*0.1)\n",
    "plt.ylabel('Survival rate')\n",
    "plt.title('Titanic passenger survival by sex')"
   ]
  },
  {
   "cell_type": "markdown",
   "metadata": {},
   "source": [
    "Even though the standard deviations are high, there are enough data points that our estimated 95% confidence intervals (shown as the error bars in the above plot) are quite tight. We can directly examine whether this could be a chance occurence or whether this is a \"true\" correlation by using *Fisher's exact test* to evalute the null hypothesis that the survival rates are the same for both sexes."
   ]
  },
  {
   "cell_type": "code",
   "execution_count": 9,
   "metadata": {
    "collapsed": false
   },
   "outputs": [
    {
     "data": {
      "text/plain": [
       "6.4639215645818617e-60"
      ]
     },
     "execution_count": 9,
     "metadata": {},
     "output_type": "execute_result"
    }
   ],
   "source": [
    "import scipy\n",
    "\n",
    "def correlation_table(sex, survived):\n",
    "    if survived == 1:\n",
    "        return survival.get_group(sex).sum()\n",
    "    return len(survival.get_group(sex)) - survival.get_group(sex).sum()\n",
    "\n",
    "table = [[correlation_table(0,0), correlation_table(0,1)], [correlation_table(1,0), correlation_table(1,1)]]\n",
    "oddsration, pvalue = scipy.stats.fisher_exact(table)\n",
    "pvalue"
   ]
  },
  {
   "cell_type": "markdown",
   "metadata": {},
   "source": [
    "Normally we would accept significance at $p<0.5$, and find it very compelling if we find $p<0.01$. In this case, we find $p<10^{-59}$, a mind-bogglingly small value, and while we can't point directly to causation, we can be assured that there is a high, large and real correlation between the survial rates of passengers on the Titanic and their sex."
   ]
  },
  {
   "cell_type": "markdown",
   "metadata": {},
   "source": [
    "### Survival rate by passenger class\n",
    "\n",
    "The next most promising variable to examine is *Pclass*, or the passenger class (in modern times, first, business and coach). We might for example hypothesize that upper-class passengers had higher survival rates, either because they were prioritized during the escape efforts or because they were lodged closer to the top deck and thus less likely to be trapped."
   ]
  },
  {
   "cell_type": "code",
   "execution_count": 10,
   "metadata": {
    "collapsed": false
   },
   "outputs": [
    {
     "data": {
      "text/plain": [
       "Pclass\n",
       "1    0.629630\n",
       "2    0.472826\n",
       "3    0.242363\n",
       "Name: Survived, dtype: float64"
      ]
     },
     "execution_count": 10,
     "metadata": {},
     "output_type": "execute_result"
    }
   ],
   "source": [
    "passengers.groupby('Pclass')['Survived'].mean()"
   ]
  },
  {
   "cell_type": "markdown",
   "metadata": {},
   "source": [
    "That seems to match our hypothesis. Visually:"
   ]
  },
  {
   "cell_type": "code",
   "execution_count": 11,
   "metadata": {
    "collapsed": false
   },
   "outputs": [
    {
     "data": {
      "text/plain": [
       "<matplotlib.text.Text at 0x1171e9b10>"
      ]
     },
     "execution_count": 11,
     "metadata": {},
     "output_type": "execute_result"
    },
    {
     "data": {
      "image/png": "[encoded data removed]",
      "text/plain": [
       "<matplotlib.figure.Figure at 0x1112d5a50>"
      ]
     },
     "metadata": {},
     "output_type": "display_data"
    }
   ],
   "source": [
    "survival = passengers.groupby('Pclass')['Survived']\n",
    "def error_bar(group, bound):\n",
    "    return abs(survival.get_group(group).mean() - sms.DescrStatsW(survival.get_group(group)).tconfint_mean()[bound])\n",
    "survival_err = [[error_bar(i, j) for i in range(1, len(survival) + 1)] for j in (0, 1)]\n",
    "\n",
    "fig, ax = plt.subplots()\n",
    "\n",
    "ax.bar(np.arange(len(survival)), survival.mean(), width=0.6, color='orange', align='center')\n",
    "ax.errorbar(np.arange(len(survival)), survival.mean(), fmt='none', yerr=survival_err)\n",
    "plt.xticks(np.arange(len(survival)), ('First', 'Second', 'Third'))\n",
    "plt.yticks(np.arange(11)*0.1)\n",
    "plt.ylabel('Survival rate')\n",
    "plt.title('Titanic passenger survival by passenger class')"
   ]
  },
  {
   "cell_type": "markdown",
   "metadata": {},
   "source": [
    "Indeed, relatively few passengers had a first-class ticket, but those that did had far better survival rates than passengers in the much more common third-class cabins.\n",
    "\n",
    "Perhaps more interestingly, how does this show up when controlling for sex?"
   ]
  },
  {
   "cell_type": "code",
   "execution_count": 12,
   "metadata": {
    "collapsed": false
   },
   "outputs": [
    {
     "data": {
      "text/html": [
       "<div>\n",
       "<table border=\"1\" class=\"dataframe\">\n",
       "  <thead>\n",
       "    <tr style=\"text-align: right;\">\n",
       "      <th></th>\n",
       "      <th></th>\n",
       "      <th>Survived</th>\n",
       "      <th>Age</th>\n",
       "      <th>SibSp</th>\n",
       "      <th>Parch</th>\n",
       "      <th>Fare</th>\n",
       "    </tr>\n",
       "    <tr>\n",
       "      <th>Sex</th>\n",
       "      <th>Pclass</th>\n",
       "      <th></th>\n",
       "      <th></th>\n",
       "      <th></th>\n",
       "      <th></th>\n",
       "      <th></th>\n",
       "    </tr>\n",
       "  </thead>\n",
       "  <tbody>\n",
       "    <tr>\n",
       "      <th rowspan=\"3\" valign=\"top\">0</th>\n",
       "      <th>1</th>\n",
       "      <td>0.368852</td>\n",
       "      <td>41.281386</td>\n",
       "      <td>0.311475</td>\n",
       "      <td>0.278689</td>\n",
       "      <td>67.226127</td>\n",
       "    </tr>\n",
       "    <tr>\n",
       "      <th>2</th>\n",
       "      <td>0.157407</td>\n",
       "      <td>30.740707</td>\n",
       "      <td>0.342593</td>\n",
       "      <td>0.222222</td>\n",
       "      <td>19.741782</td>\n",
       "    </tr>\n",
       "    <tr>\n",
       "      <th>3</th>\n",
       "      <td>0.135447</td>\n",
       "      <td>26.507589</td>\n",
       "      <td>0.498559</td>\n",
       "      <td>0.224784</td>\n",
       "      <td>12.661633</td>\n",
       "    </tr>\n",
       "    <tr>\n",
       "      <th rowspan=\"3\" valign=\"top\">1</th>\n",
       "      <th>1</th>\n",
       "      <td>0.968085</td>\n",
       "      <td>34.611765</td>\n",
       "      <td>0.553191</td>\n",
       "      <td>0.457447</td>\n",
       "      <td>106.125798</td>\n",
       "    </tr>\n",
       "    <tr>\n",
       "      <th>2</th>\n",
       "      <td>0.921053</td>\n",
       "      <td>28.722973</td>\n",
       "      <td>0.486842</td>\n",
       "      <td>0.605263</td>\n",
       "      <td>21.970121</td>\n",
       "    </tr>\n",
       "    <tr>\n",
       "      <th>3</th>\n",
       "      <td>0.500000</td>\n",
       "      <td>21.750000</td>\n",
       "      <td>0.895833</td>\n",
       "      <td>0.798611</td>\n",
       "      <td>16.118810</td>\n",
       "    </tr>\n",
       "  </tbody>\n",
       "</table>\n",
       "</div>"
      ],
      "text/plain": [
       "            Survived        Age     SibSp     Parch        Fare\n",
       "Sex Pclass                                                     \n",
       "0   1       0.368852  41.281386  0.311475  0.278689   67.226127\n",
       "    2       0.157407  30.740707  0.342593  0.222222   19.741782\n",
       "    3       0.135447  26.507589  0.498559  0.224784   12.661633\n",
       "1   1       0.968085  34.611765  0.553191  0.457447  106.125798\n",
       "    2       0.921053  28.722973  0.486842  0.605263   21.970121\n",
       "    3       0.500000  21.750000  0.895833  0.798611   16.118810"
      ]
     },
     "execution_count": 12,
     "metadata": {},
     "output_type": "execute_result"
    }
   ],
   "source": [
    "passengers.groupby(['Sex','Pclass']).mean()"
   ]
  },
  {
   "cell_type": "markdown",
   "metadata": {},
   "source": [
    "Interesting. *Pclass* is predictive of survival rates, but how it does so varies by sex. There's very little\n",
    "difference between the survival rates of second and third class men, but first class men survived more than twice as often as either of them. On the other hand, almost all of the first and second class women passengers survived (upwards of 95%), but third class women did half as well---still better, however, than even first class men passengers.\n",
    "\n",
    "Let's examine this visually:"
   ]
  },
  {
   "cell_type": "code",
   "execution_count": 29,
   "metadata": {
    "collapsed": false
   },
   "outputs": [
    {
     "data": {
      "image/png": "[encoded data removed]",
      "text/plain": [
       "<matplotlib.figure.Figure at 0x116b12a50>"
      ]
     },
     "metadata": {},
     "output_type": "display_data"
    }
   ],
   "source": [
    "survival = passengers[passengers['Sex'] == 0].groupby(['Pclass'])['Survived']\n",
    "male_means = survival.mean()\n",
    "male_err = [[error_bar(i, j) for i in range(1, len(survival) + 1)] for j in (0, 1)]\n",
    "\n",
    "N = len(survival)\n",
    "ind = np.arange(N)  # the x locations for the groups\n",
    "width = 0.35       # the width of the bars\n",
    "\n",
    "fig, ax = plt.subplots()\n",
    "rects1 = ax.bar(ind, male_means, width, color='r', yerr=male_err)\n",
    "\n",
    "survival = passengers[passengers['Sex'] == 1].groupby(['Pclass'])['Survived']\n",
    "female_means = survival.mean()\n",
    "female_err = [[error_bar(i, j) for i in range(1, len(survival) + 1)] for j in (0, 1)]\n",
    "\n",
    "rects2 = ax.bar(ind + width, female_means, width, color='y', yerr=female_err)\n",
    "\n",
    "# add some text for labels, title and axes ticks\n",
    "ax.set_ylabel('Survival')\n",
    "ax.set_title('Passenger Class')\n",
    "ax.set_xticks(ind + width)\n",
    "ax.set_xticklabels(('First', 'Second', 'Third'))\n",
    "\n",
    "ax.legend((rects1[0], rects2[0]), ('Male', 'Female'))\n",
    "\n",
    "plt.show()"
   ]
  },
  {
   "cell_type": "markdown",
   "metadata": {},
   "source": [
    "When examining the data broken down by *Pclass* and *Sex*, I noticed that *Age* also appeared to have an interesting relationship with *Sex* (entirely separate from survival rates). Let's dig into that visually. Note that we will first filter out NaNs from the *Age* column, since we can't estimate or guess these."
   ]
  },
  {
   "cell_type": "code",
   "execution_count": 61,
   "metadata": {
    "collapsed": false
   },
   "outputs": [
    {
     "data": {
      "text/html": [
       "<div>\n",
       "<table border=\"1\" class=\"dataframe\">\n",
       "  <thead>\n",
       "    <tr style=\"text-align: right;\">\n",
       "      <th></th>\n",
       "      <th>Survived</th>\n",
       "      <th>Pclass</th>\n",
       "      <th>Age</th>\n",
       "      <th>SibSp</th>\n",
       "      <th>Parch</th>\n",
       "      <th>Fare</th>\n",
       "    </tr>\n",
       "    <tr>\n",
       "      <th>Sex</th>\n",
       "      <th></th>\n",
       "      <th></th>\n",
       "      <th></th>\n",
       "      <th></th>\n",
       "      <th></th>\n",
       "      <th></th>\n",
       "    </tr>\n",
       "  </thead>\n",
       "  <tbody>\n",
       "    <tr>\n",
       "      <th>0</th>\n",
       "      <td>0.205298</td>\n",
       "      <td>2.335541</td>\n",
       "      <td>30.726645</td>\n",
       "      <td>0.439294</td>\n",
       "      <td>0.271523</td>\n",
       "      <td>27.268836</td>\n",
       "    </tr>\n",
       "    <tr>\n",
       "      <th>1</th>\n",
       "      <td>0.754789</td>\n",
       "      <td>2.065134</td>\n",
       "      <td>27.915709</td>\n",
       "      <td>0.639847</td>\n",
       "      <td>0.708812</td>\n",
       "      <td>47.582759</td>\n",
       "    </tr>\n",
       "  </tbody>\n",
       "</table>\n",
       "</div>"
      ],
      "text/plain": [
       "     Survived    Pclass        Age     SibSp     Parch       Fare\n",
       "Sex                                                              \n",
       "0    0.205298  2.335541  30.726645  0.439294  0.271523  27.268836\n",
       "1    0.754789  2.065134  27.915709  0.639847  0.708812  47.582759"
      ]
     },
     "execution_count": 61,
     "metadata": {},
     "output_type": "execute_result"
    }
   ],
   "source": [
    "aged_passengers = passengers[np.isfinite(passengers['Age'])]\n",
    "aged_passengers.groupby('Sex').mean()"
   ]
  },
  {
   "cell_type": "markdown",
   "metadata": {},
   "source": [
    "The means appear to differ only by $\\approx 3$ years; interestingly, this *also* seems to indicate that sex had an effect on the number of siblings, spouses, children and parents aboard (perhaps men more often traveled alone?) as well as on *Fare*. Curious. Why would female passengers pay almost 75% more for their fares?"
   ]
  },
  {
   "cell_type": "code",
   "execution_count": 55,
   "metadata": {
    "collapsed": false
   },
   "outputs": [
    {
     "data": {
      "image/png": "[encoded data removed]",
      "text/plain": [
       "<matplotlib.figure.Figure at 0x1174b87d0>"
      ]
     },
     "metadata": {},
     "output_type": "display_data"
    }
   ],
   "source": [
    "fig, ax = plt.subplots()\n",
    "\n",
    "all_data = [aged_passengers[aged_passengers['Sex'] == s]['Age'] for s in (0, 1)]\n",
    "\n",
    "# plot violin plot\n",
    "ax.violinplot(all_data, showmeans=True, showmedians=False)\n",
    "ax.set_title('Age distributions by sex')\n",
    "\n",
    "ax.yaxis.grid(True)\n",
    "ax.set_xticks([y+1 for y in range(len(all_data))])\n",
    "ax.set_ylabel('Age')\n",
    "\n",
    "# add x-tick labels\n",
    "ax.set_xticklabels(('Male', 'Female'))\n",
    "plt.show()"
   ]
  },
  {
   "cell_type": "markdown",
   "metadata": {},
   "source": [
    "Those don't look as different as I might have imagined. It seems like there are more young female passengers than young male passengers, and the maximum age of the male passengers is higher. The means appear to be slightly but not dramatically different. It would make sense to use a non-parametric test to actually examine population variations. Below, we use the Mann-Whitney U-test."
   ]
  },
  {
   "cell_type": "code",
   "execution_count": 58,
   "metadata": {
    "collapsed": false
   },
   "outputs": [
    {
     "data": {
      "text/plain": [
       "0.026087746884279634"
      ]
     },
     "execution_count": 58,
     "metadata": {},
     "output_type": "execute_result"
    }
   ],
   "source": [
    "male = aged_passengers[aged_passengers['Sex'] == 0]['Age']\n",
    "female = aged_passengers[aged_passengers['Sex'] == 1]['Age']\n",
    "\n",
    "scipy.stats.mannwhitneyu(male, female).pvalue"
   ]
  },
  {
   "cell_type": "markdown",
   "metadata": {},
   "source": [
    "Statistically different, but not overwhelmingly so."
   ]
  },
  {
   "cell_type": "markdown",
   "metadata": {
    "collapsed": true
   },
   "source": [
    "## Conclusion\n",
    "\n",
    "This was just an inital inspection of the Titanic data, and our conclusions are more informative of future investigative efforts than they are thoroughly sound.\n",
    "\n",
    "*Sex* appeared to have a significant effect on passenger *Survival*, with both wildly different populations means for different sexes and a very low p-value. The effect held while controlling for *Pclass*, but different passenger classes were found to have different survival rates that also depended on sex, and in general, passengers in a higher class had better survival rates.\n",
    "\n",
    "*Sex* and *Age* were correlated at a statistically significant rate, but the actual difference of means was small ($<3$ years). We didn't investigate further, but it seems as if *Sex* was likely correlated with most of the other columns of data as well.\n",
    "\n",
    "Note that these conclusions are *observational descriptions*, and don't necessarily predict facts for the other pasengers who were aboard the Titanic nor other ships, nor do they actually give us casual information. We might hazard a guess that female passengers survived more because they were priorized during the effort to abandon the ship---and reported history supports this hypothesis---but the data as-is can't actually tell us why, so that remains a guess even if we can factually state that there were large statistical differences in the survival rates of men and women."
   ]
  }
 ],
 "metadata": {
  "kernelspec": {
   "display_name": "Python 2",
   "language": "python",
   "name": "python2"
  },
  "language_info": {
   "codemirror_mode": {
    "name": "ipython",
    "version": 2
   },
   "file_extension": ".py",
   "mimetype": "text/x-python",
   "name": "python",
   "nbconvert_exporter": "python",
   "pygments_lexer": "ipython2",
   "version": "2.7.11"
  }
 },
 "nbformat": 4,
 "nbformat_minor": 0
}
